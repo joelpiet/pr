{
 "cells": [
  {
   "cell_type": "code",
   "execution_count": 2,
   "metadata": {},
   "outputs": [],
   "source": [
    "import numpy as np\n",
    "\n",
    "# problem 1: Represent the data in the given sheet into an appropriate NumPy array so that you can perform the following actions on it.\n",
    "temp=np.array([12,22,6,28,10,21,10,31,12,32,6,26,15,23,9,22,8,23,7,27,-13,28,7,23,14,31,9,26,11,29,8,22,10,21,14,24,11,28,13,29,8,22,11,25,9,21,8,23,8,30,14,29,8,32,15,20,12,30,8,21,10,26,10,24,8,23,12,32,14,25,9,23,11,26,12,29,9,32,9,30,11,30,9,24,12,21,9,25,14,24,13,24,11,25,6,20,10,24,13,24,7,25,12,32,9,22,12,28,15,21,14,20,2,20,6,20,7,20,8,21,4,20,5,2,21,5,5,20,8,18,5,19,5,19,8,20,2,8,19,5,4,19,4,21,5,19,5,19,6,21,8,5,22,7,3,19,5,21,7,21,5,19,4,20,6,5,21,6,7,21,10,18,-10,20,12,18,12,19,7,71,22,9,11,20,12,21,11,22,9,18,10,19,8,8,20,8,7,22,12,21,7,22,12,20,11,20,10,12,19,11,7,22,11,22,7,21,12,18,10,18,10,8,18,10])"
   ]
  },
  {
   "cell_type": "code",
   "execution_count": 3,
   "metadata": {},
   "outputs": [],
   "source": [
    "tempGrid=temp.reshape(4,4,7,2)"
   ]
  },
  {
   "cell_type": "code",
   "execution_count": 4,
   "metadata": {},
   "outputs": [
    {
     "name": "stdout",
     "output_type": "stream",
     "text": [
      "[[[[ 12  22]\n",
      "   [  6  28]\n",
      "   [ 10  21]\n",
      "   [ 10  31]\n",
      "   [ 12  32]\n",
      "   [  6  26]\n",
      "   [ 15  23]]\n",
      "\n",
      "  [[  9  22]\n",
      "   [  8  23]\n",
      "   [  7  27]\n",
      "   [-13  28]\n",
      "   [  7  23]\n",
      "   [ 14  31]\n",
      "   [  9  26]]\n",
      "\n",
      "  [[ 11  29]\n",
      "   [  8  22]\n",
      "   [ 10  21]\n",
      "   [ 14  24]\n",
      "   [ 11  28]\n",
      "   [ 13  29]\n",
      "   [  8  22]]\n",
      "\n",
      "  [[ 11  25]\n",
      "   [  9  21]\n",
      "   [  8  23]\n",
      "   [  8  30]\n",
      "   [ 14  29]\n",
      "   [  8  32]\n",
      "   [ 15  20]]]\n",
      "\n",
      "\n",
      " [[[ 12  30]\n",
      "   [  8  21]\n",
      "   [ 10  26]\n",
      "   [ 10  24]\n",
      "   [  8  23]\n",
      "   [ 12  32]\n",
      "   [ 14  25]]\n",
      "\n",
      "  [[  9  23]\n",
      "   [ 11  26]\n",
      "   [ 12  29]\n",
      "   [  9  32]\n",
      "   [  9  30]\n",
      "   [ 11  30]\n",
      "   [  9  24]]\n",
      "\n",
      "  [[ 12  21]\n",
      "   [  9  25]\n",
      "   [ 14  24]\n",
      "   [ 13  24]\n",
      "   [ 11  25]\n",
      "   [  6  20]\n",
      "   [ 10  24]]\n",
      "\n",
      "  [[ 13  24]\n",
      "   [  7  25]\n",
      "   [ 12  32]\n",
      "   [  9  22]\n",
      "   [ 12  28]\n",
      "   [ 15  21]\n",
      "   [ 14  20]]]\n",
      "\n",
      "\n",
      " [[[  2  20]\n",
      "   [  6  20]\n",
      "   [  7  20]\n",
      "   [  8  21]\n",
      "   [  4  20]\n",
      "   [  5   2]\n",
      "   [ 21   5]]\n",
      "\n",
      "  [[  5  20]\n",
      "   [  8  18]\n",
      "   [  5  19]\n",
      "   [  5  19]\n",
      "   [  8  20]\n",
      "   [  2   8]\n",
      "   [ 19   5]]\n",
      "\n",
      "  [[  4  19]\n",
      "   [  4  21]\n",
      "   [  5  19]\n",
      "   [  5  19]\n",
      "   [  6  21]\n",
      "   [  8   5]\n",
      "   [ 22   7]]\n",
      "\n",
      "  [[  3  19]\n",
      "   [  5  21]\n",
      "   [  7  21]\n",
      "   [  5  19]\n",
      "   [  4  20]\n",
      "   [  6   5]\n",
      "   [ 21   6]]]\n",
      "\n",
      "\n",
      " [[[  7  21]\n",
      "   [ 10  18]\n",
      "   [-10  20]\n",
      "   [ 12  18]\n",
      "   [ 12  19]\n",
      "   [  7  71]\n",
      "   [ 22   9]]\n",
      "\n",
      "  [[ 11  20]\n",
      "   [ 12  21]\n",
      "   [ 11  22]\n",
      "   [  9  18]\n",
      "   [ 10  19]\n",
      "   [  8   8]\n",
      "   [ 20   8]]\n",
      "\n",
      "  [[  7  22]\n",
      "   [ 12  21]\n",
      "   [  7  22]\n",
      "   [ 12  20]\n",
      "   [ 11  20]\n",
      "   [ 10  12]\n",
      "   [ 19  11]]\n",
      "\n",
      "  [[  7  22]\n",
      "   [ 11  22]\n",
      "   [  7  21]\n",
      "   [ 12  18]\n",
      "   [ 10  18]\n",
      "   [ 10   8]\n",
      "   [ 18  10]]]]\n"
     ]
    }
   ],
   "source": [
    "print(tempGrid)"
   ]
  },
  {
   "cell_type": "code",
   "execution_count": 5,
   "metadata": {},
   "outputs": [
    {
     "data": {
      "text/plain": [
       "4"
      ]
     },
     "execution_count": 5,
     "metadata": {},
     "output_type": "execute_result"
    }
   ],
   "source": [
    "tempGrid.ndim"
   ]
  },
  {
   "cell_type": "code",
   "execution_count": 6,
   "metadata": {},
   "outputs": [
    {
     "data": {
      "text/plain": [
       "(4, 4, 7, 2)"
      ]
     },
     "execution_count": 6,
     "metadata": {},
     "output_type": "execute_result"
    }
   ],
   "source": [
    "# problem 2: Write the dimensions and shape of the NumPy array that you have created.\n",
    "\n",
    "np.shape(tempGrid)"
   ]
  },
  {
   "cell_type": "code",
   "execution_count": 7,
   "metadata": {},
   "outputs": [
    {
     "name": "stdout",
     "output_type": "stream",
     "text": [
      "[[[ 12  22]\n",
      "  [  6  28]\n",
      "  [ 10  21]\n",
      "  [ 10  31]\n",
      "  [ 12  32]\n",
      "  [  6  26]\n",
      "  [ 15  23]]\n",
      "\n",
      " [[ 12  30]\n",
      "  [  8  21]\n",
      "  [ 10  26]\n",
      "  [ 10  24]\n",
      "  [  8  23]\n",
      "  [ 12  32]\n",
      "  [ 14  25]]\n",
      "\n",
      " [[  2  20]\n",
      "  [  6  20]\n",
      "  [  7  20]\n",
      "  [  8  21]\n",
      "  [  4  20]\n",
      "  [  5   2]\n",
      "  [ 21   5]]\n",
      "\n",
      " [[  7  21]\n",
      "  [ 10  18]\n",
      "  [-10  20]\n",
      "  [ 12  18]\n",
      "  [ 12  19]\n",
      "  [  7  71]\n",
      "  [ 22   9]]]\n"
     ]
    }
   ],
   "source": [
    "# problem 3: Print the daily temperatures for the first week of each month.\n",
    "print(tempGrid[:,0])  # (month , week , day , temp)"
   ]
  },
  {
   "cell_type": "code",
   "execution_count": 8,
   "metadata": {},
   "outputs": [
    {
     "name": "stdout",
     "output_type": "stream",
     "text": [
      "[[[ 6 28]\n",
      "  [ 8 23]\n",
      "  [ 8 22]\n",
      "  [ 9 21]]\n",
      "\n",
      " [[ 8 21]\n",
      "  [11 26]\n",
      "  [ 9 25]\n",
      "  [ 7 25]]\n",
      "\n",
      " [[ 6 20]\n",
      "  [ 8 18]\n",
      "  [ 4 21]\n",
      "  [ 5 21]]\n",
      "\n",
      " [[10 18]\n",
      "  [12 21]\n",
      "  [12 21]\n",
      "  [11 22]]]\n"
     ]
    }
   ],
   "source": [
    "# problem 4: Print the temperatures for Tuesday of each month.\n",
    "print(tempGrid[:,:,1])"
   ]
  },
  {
   "cell_type": "code",
   "execution_count": 9,
   "metadata": {},
   "outputs": [
    {
     "name": "stdout",
     "output_type": "stream",
     "text": [
      "[[[30 21 26 24 23 32 25]\n",
      "  [23 26 29 32 30 30 24]\n",
      "  [21 25 24 24 25 20 24]\n",
      "  [24 25 32 22 28 21 20]]\n",
      "\n",
      " [[21 18 20 18 19 71  9]\n",
      "  [20 21 22 18 19  8  8]\n",
      "  [22 21 22 20 20 12 11]\n",
      "  [22 22 21 18 18  8 10]]]\n"
     ]
    }
   ],
   "source": [
    "# problem 5: Print only the maximum temperature for all the weekdays of Dec and Feb.\n",
    "print(tempGrid[1::2,:,:,1])"
   ]
  },
  {
   "cell_type": "code",
   "execution_count": 18,
   "metadata": {},
   "outputs": [
    {
     "name": "stdout",
     "output_type": "stream",
     "text": [
      "week: 1      day: 2      temperature: 6\n",
      "week: 1      day: 6      temperature: 6\n",
      "week: 2      day: 3      temperature: 7\n",
      "week: 2      day: 4      temperature: -13\n",
      "week: 2      day: 5      temperature: 7\n"
     ]
    }
   ],
   "source": [
    "# problem 6: Print all the days along with the week number in November when the minimum temperature was less than 8 degrees.\n",
    "for i in range(0,4):\n",
    "    for j in range(0,7):\n",
    "        lt=tempGrid[0,i,j,0]\n",
    "        if np.any(lt<8):\n",
    "            print(f\"week: {i+1}      day: {j+1}      temperature: {lt}\")"
   ]
  },
  {
   "cell_type": "code",
   "execution_count": 11,
   "metadata": {},
   "outputs": [
    {
     "name": "stdout",
     "output_type": "stream",
     "text": [
      "month: 2        week: 1\n",
      "month: 2        week: 1\n",
      "month: 2        week: 1\n",
      "month: 2        week: 1\n",
      "month: 2        week: 1\n",
      "month: 2        week: 1\n",
      "month: 2        week: 1\n",
      "month: 2        week: 2\n",
      "month: 2        week: 2\n",
      "month: 2        week: 2\n",
      "month: 2        week: 2\n",
      "month: 2        week: 2\n",
      "month: 2        week: 2\n",
      "month: 2        week: 2\n",
      "month: 2        week: 3\n",
      "month: 2        week: 3\n",
      "month: 2        week: 3\n",
      "month: 2        week: 3\n",
      "month: 2        week: 3\n",
      "month: 2        week: 3\n",
      "month: 2        week: 4\n",
      "month: 2        week: 4\n",
      "month: 2        week: 4\n",
      "month: 2        week: 4\n",
      "month: 2        week: 4\n",
      "month: 2        week: 4\n",
      "month: 3        week: 1\n",
      "month: 3        week: 1\n",
      "month: 3        week: 3\n",
      "month: 3        week: 3\n",
      "month: 3        week: 3\n",
      "month: 3        week: 4\n",
      "month: 3        week: 4\n",
      "month: 3        week: 4\n"
     ]
    }
   ],
   "source": [
    "# problem 7: Print all the weeks in Dec and Jan where the maximum temperature has crossed a threshold of 20 degrees.\n",
    "for k in range(1,3):\n",
    "    for i in range(4):\n",
    "        for j in range(7):\n",
    "            lt=tempGrid[k,i,j,:]\n",
    "            if np.any(lt>20):\n",
    "                print(f\"month: {k+1}        week: {i+1}\")"
   ]
  },
  {
   "cell_type": "code",
   "execution_count": null,
   "metadata": {},
   "outputs": [],
   "source": []
  }
 ],
 "metadata": {
  "kernelspec": {
   "display_name": "Python 3",
   "language": "python",
   "name": "python3"
  },
  "language_info": {
   "codemirror_mode": {
    "name": "ipython",
    "version": 3
   },
   "file_extension": ".py",
   "mimetype": "text/x-python",
   "name": "python",
   "nbconvert_exporter": "python",
   "pygments_lexer": "ipython3",
   "version": "3.9.13"
  },
  "orig_nbformat": 4
 },
 "nbformat": 4,
 "nbformat_minor": 2
}
