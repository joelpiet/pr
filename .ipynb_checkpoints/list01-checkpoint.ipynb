{
 "cells": [
  {
   "cell_type": "code",
   "execution_count": 1,
   "id": "3be686bd-2cef-49db-81cc-f351c3a91e11",
   "metadata": {},
   "outputs": [
    {
     "data": {
      "text/plain": [
       "[1, 2, 3, 4, 5]"
      ]
     },
     "execution_count": 1,
     "metadata": {},
     "output_type": "execute_result"
    }
   ],
   "source": [
    "#list are mutable and heterogenous\n",
    "x=[1,2,3,4,5]\n",
    "x"
   ]
  },
  {
   "cell_type": "code",
   "execution_count": 8,
   "id": "d44939e4-6600-4212-8733-37a5abc77f90",
   "metadata": {},
   "outputs": [],
   "source": [
    "x.append('p')\n",
    "#this method add at the end of the list"
   ]
  },
  {
   "cell_type": "code",
   "execution_count": 3,
   "id": "d5212725-7c43-4956-a913-7fdbbfaaf99f",
   "metadata": {},
   "outputs": [
    {
     "data": {
      "text/plain": [
       "[1, 2, 3, 4, 5, 'p']"
      ]
     },
     "execution_count": 3,
     "metadata": {},
     "output_type": "execute_result"
    }
   ],
   "source": [
    "x"
   ]
  },
  {
   "cell_type": "code",
   "execution_count": 5,
   "id": "1f9613d4-d855-4059-9fe2-a75920b31b86",
   "metadata": {},
   "outputs": [],
   "source": [
    "#x.append('q','r')\n",
    "#only one element at a time"
   ]
  },
  {
   "cell_type": "code",
   "execution_count": 6,
   "id": "98f7f6cf-6ac5-4882-8439-5de62b5c3eec",
   "metadata": {},
   "outputs": [],
   "source": [
    "# if you want to add sequence as individual elements using extend func\n",
    "y=['r','s','t']\n",
    "x.extend(y)"
   ]
  },
  {
   "cell_type": "code",
   "execution_count": 7,
   "id": "ffdebe4f-d507-4caf-a946-ae843beb6af7",
   "metadata": {},
   "outputs": [
    {
     "data": {
      "text/plain": [
       "[1, 2, 3, 4, 5, 'p', 'r', 's', 't']"
      ]
     },
     "execution_count": 7,
     "metadata": {},
     "output_type": "execute_result"
    }
   ],
   "source": [
    "x"
   ]
  },
  {
   "cell_type": "code",
   "execution_count": 9,
   "id": "eed3a1f9-d953-4c16-ae2a-9de8d48d65dd",
   "metadata": {},
   "outputs": [],
   "source": [
    "#if you want to add element in the middle somewhere using insert func .insert(index, value)\n",
    "x.insert(2,5)"
   ]
  },
  {
   "cell_type": "code",
   "execution_count": 10,
   "id": "10cb1be6-b6e0-4cf5-8130-b742a55c0dfb",
   "metadata": {},
   "outputs": [
    {
     "data": {
      "text/plain": [
       "[1, 2, 5, 3, 4, 5, 'p', 'r', 's', 't', 'p']"
      ]
     },
     "execution_count": 10,
     "metadata": {},
     "output_type": "execute_result"
    }
   ],
   "source": [
    "x"
   ]
  },
  {
   "cell_type": "code",
   "execution_count": 11,
   "id": "0e82fd61-8162-4613-81cc-7ed9627055cd",
   "metadata": {},
   "outputs": [
    {
     "data": {
      "text/plain": [
       "[1, 2, 3, 4, 5, 'p', 'r', 's', 't', 'p']"
      ]
     },
     "execution_count": 11,
     "metadata": {},
     "output_type": "execute_result"
    }
   ],
   "source": [
    "#if you want to remove elements from list using remove func. remove(value) \n",
    "#it will remove the first known element only\n",
    "x.remove(5)\n",
    "x"
   ]
  },
  {
   "cell_type": "code",
   "execution_count": 14,
   "id": "e9231a81-78dc-4f1e-9066-24248cbd233e",
   "metadata": {},
   "outputs": [
    {
     "data": {
      "text/plain": [
       "[1, 4, 5, 'r', 's', 't', 'p']"
      ]
     },
     "execution_count": 14,
     "metadata": {},
     "output_type": "execute_result"
    }
   ],
   "source": [
    "#remove element at an index\n",
    "x.__delitem__(1)\n",
    "#remove element at and index method 2\n",
    "del x[3]\n",
    "x"
   ]
  },
  {
   "cell_type": "code",
   "execution_count": 15,
   "id": "93951475-d6e5-4d07-b844-fd185354bbb5",
   "metadata": {},
   "outputs": [],
   "source": [
    "#clear the whole list using clear()\n",
    "del x[::2]"
   ]
  },
  {
   "cell_type": "code",
   "execution_count": 16,
   "id": "4bc132ff-e448-46df-befe-9bc7b056341f",
   "metadata": {},
   "outputs": [
    {
     "data": {
      "text/plain": [
       "[4, 'r', 't']"
      ]
     },
     "execution_count": 16,
     "metadata": {},
     "output_type": "execute_result"
    }
   ],
   "source": [
    "x"
   ]
  },
  {
   "cell_type": "code",
   "execution_count": null,
   "id": "4f3544c2-eab6-416d-b282-6d79ee69c8d2",
   "metadata": {},
   "outputs": [],
   "source": []
  }
 ],
 "metadata": {
  "kernelspec": {
   "display_name": "Python 3 (ipykernel)",
   "language": "python",
   "name": "python3"
  },
  "language_info": {
   "codemirror_mode": {
    "name": "ipython",
    "version": 3
   },
   "file_extension": ".py",
   "mimetype": "text/x-python",
   "name": "python",
   "nbconvert_exporter": "python",
   "pygments_lexer": "ipython3",
   "version": "3.9.13"
  }
 },
 "nbformat": 4,
 "nbformat_minor": 5
}
